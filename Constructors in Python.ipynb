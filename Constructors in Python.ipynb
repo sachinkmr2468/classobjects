{
 "cells": [
  {
   "cell_type": "code",
   "execution_count": 45,
   "id": "59d1aa47",
   "metadata": {},
   "outputs": [
    {
     "name": "stdout",
     "output_type": "stream",
     "text": [
      "sachin\n"
     ]
    }
   ],
   "source": [
    "class geeks:\n",
    "    def __init__(self):\n",
    "        print('sachin')\n",
    "    def __del__callings(self):\n",
    "        print('kumar')\n",
    "obj = geeks()\n",
    "del obj"
   ]
  },
  {
   "cell_type": "code",
   "execution_count": 44,
   "id": "4999199a",
   "metadata": {},
   "outputs": [
    {
     "name": "stdout",
     "output_type": "stream",
     "text": [
      "Employee created.\n",
      "Destructor called, Employee deleted.\n"
     ]
    }
   ],
   "source": [
    "class Employee:\n",
    " \n",
    "    # Initializing\n",
    "    def __init__(self):\n",
    "        print('Employee created.')\n",
    " \n",
    "    # Deleting (Calling destructor)\n",
    "    def __del__(self):\n",
    "        print('Destructor called, Employee deleted.')\n",
    " \n",
    "obj = Employee()\n",
    "del obj"
   ]
  },
  {
   "cell_type": "code",
   "execution_count": 46,
   "id": "e012e222",
   "metadata": {},
   "outputs": [
    {
     "name": "stdout",
     "output_type": "stream",
     "text": [
      "yes\n",
      "no\n"
     ]
    }
   ],
   "source": [
    "class employees:\n",
    "    def __init__(self):\n",
    "        print('yes')\n",
    "    def __del__(self):\n",
    "        print('no')\n",
    "obs = employees()\n",
    "del obs\n",
    "\n",
    "#By using del keyword we deleted the all references of object ‘obj’, therefore destructor invoked automatically."
   ]
  },
  {
   "cell_type": "code",
   "execution_count": null,
   "id": "7661280b",
   "metadata": {},
   "outputs": [],
   "source": []
  }
 ],
 "metadata": {
  "kernelspec": {
   "display_name": "Python 3 (ipykernel)",
   "language": "python",
   "name": "python3"
  },
  "language_info": {
   "codemirror_mode": {
    "name": "ipython",
    "version": 3
   },
   "file_extension": ".py",
   "mimetype": "text/x-python",
   "name": "python",
   "nbconvert_exporter": "python",
   "pygments_lexer": "ipython3",
   "version": "3.9.7"
  }
 },
 "nbformat": 4,
 "nbformat_minor": 5
}
