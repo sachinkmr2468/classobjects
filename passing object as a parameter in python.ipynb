{
 "cells": [
  {
   "cell_type": "code",
   "execution_count": 24,
   "id": "f431dc61",
   "metadata": {},
   "outputs": [
    {
     "data": {
      "text/plain": [
       "6"
      ]
     },
     "execution_count": 24,
     "metadata": {},
     "output_type": "execute_result"
    }
   ],
   "source": [
    "class rectangle:\n",
    "    lenght = 0\n",
    "    breath = 0\n",
    "    def __init__(self,l,w):\n",
    "        self.lenght = l\n",
    "        self.breath = w\n",
    "    def area(self,obj):\n",
    "        return self.lenght*self.breath\n",
    "ob = rectangle(3,2)\n",
    "ob.area(ob)     "
   ]
  },
  {
   "cell_type": "code",
   "execution_count": null,
   "id": "89be3376",
   "metadata": {},
   "outputs": [],
   "source": []
  }
 ],
 "metadata": {
  "kernelspec": {
   "display_name": "Python 3 (ipykernel)",
   "language": "python",
   "name": "python3"
  },
  "language_info": {
   "codemirror_mode": {
    "name": "ipython",
    "version": 3
   },
   "file_extension": ".py",
   "mimetype": "text/x-python",
   "name": "python",
   "nbconvert_exporter": "python",
   "pygments_lexer": "ipython3",
   "version": "3.9.7"
  }
 },
 "nbformat": 4,
 "nbformat_minor": 5
}
