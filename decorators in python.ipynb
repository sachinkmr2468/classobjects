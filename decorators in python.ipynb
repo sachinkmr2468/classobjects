{
 "cells": [
  {
   "cell_type": "code",
   "execution_count": 40,
   "id": "691ff849",
   "metadata": {},
   "outputs": [],
   "source": [
    "def inc(x):\n",
    "    return x + 1\n",
    "\n",
    "\n",
    "def dec(x):\n",
    "    return x - 1\n",
    "\n",
    "\n",
    "def operate(func, x):\n",
    "    result = func(x)\n",
    "    return result"
   ]
  },
  {
   "cell_type": "code",
   "execution_count": 41,
   "id": "6cdf7846",
   "metadata": {},
   "outputs": [
    {
     "data": {
      "text/plain": [
       "4"
      ]
     },
     "execution_count": 41,
     "metadata": {},
     "output_type": "execute_result"
    }
   ],
   "source": [
    "operate(inc,3)"
   ]
  },
  {
   "cell_type": "code",
   "execution_count": 42,
   "id": "765c4f4b",
   "metadata": {},
   "outputs": [
    {
     "data": {
      "text/plain": [
       "2"
      ]
     },
     "execution_count": 42,
     "metadata": {},
     "output_type": "execute_result"
    }
   ],
   "source": [
    "operate(dec,3)"
   ]
  },
  {
   "cell_type": "code",
   "execution_count": 43,
   "id": "21104eb9",
   "metadata": {},
   "outputs": [
    {
     "data": {
      "text/plain": [
       "5"
      ]
     },
     "execution_count": 43,
     "metadata": {},
     "output_type": "execute_result"
    }
   ],
   "source": [
    "def inc(x):\n",
    "    return x+1\n",
    "def dec (x):\n",
    "    return x-1\n",
    "def operate(y,x):\n",
    "    result = y(x)\n",
    "    return result\n",
    "operate(inc,4)"
   ]
  },
  {
   "cell_type": "code",
   "execution_count": 44,
   "id": "737c28a6",
   "metadata": {},
   "outputs": [
    {
     "data": {
      "text/plain": [
       "5"
      ]
     },
     "execution_count": 44,
     "metadata": {},
     "output_type": "execute_result"
    }
   ],
   "source": [
    "operate(dec,6)"
   ]
  },
  {
   "cell_type": "code",
   "execution_count": null,
   "id": "5087f606",
   "metadata": {},
   "outputs": [],
   "source": []
  },
  {
   "cell_type": "code",
   "execution_count": null,
   "id": "409e1b2e",
   "metadata": {},
   "outputs": [],
   "source": []
  },
  {
   "cell_type": "code",
   "execution_count": null,
   "id": "00277f8a",
   "metadata": {},
   "outputs": [],
   "source": []
  },
  {
   "cell_type": "code",
   "execution_count": null,
   "id": "44d88010",
   "metadata": {},
   "outputs": [],
   "source": []
  },
  {
   "cell_type": "code",
   "execution_count": null,
   "id": "a1ecc17c",
   "metadata": {},
   "outputs": [],
   "source": []
  },
  {
   "cell_type": "code",
   "execution_count": null,
   "id": "c88259e7",
   "metadata": {},
   "outputs": [],
   "source": []
  },
  {
   "cell_type": "code",
   "execution_count": null,
   "id": "6ba93efa",
   "metadata": {},
   "outputs": [],
   "source": []
  },
  {
   "cell_type": "code",
   "execution_count": null,
   "id": "cc5b8dc0",
   "metadata": {},
   "outputs": [],
   "source": []
  },
  {
   "cell_type": "code",
   "execution_count": null,
   "id": "7c719a45",
   "metadata": {},
   "outputs": [],
   "source": []
  },
  {
   "cell_type": "code",
   "execution_count": 45,
   "id": "a448fe87",
   "metadata": {},
   "outputs": [
    {
     "data": {
      "text/plain": [
       "10"
      ]
     },
     "execution_count": 45,
     "metadata": {},
     "output_type": "execute_result"
    }
   ],
   "source": [
    "def names(x):\n",
    "    return x+2\n",
    "def title(x):\n",
    "    return x-2\n",
    "def operators(y,x):\n",
    "    result =y(x)\n",
    "    return result\n",
    "operators(names,8)"
   ]
  },
  {
   "cell_type": "code",
   "execution_count": 4,
   "id": "c401c5de",
   "metadata": {},
   "outputs": [
    {
     "data": {
      "text/plain": [
       "6"
      ]
     },
     "execution_count": 4,
     "metadata": {},
     "output_type": "execute_result"
    }
   ],
   "source": [
    "def names(x):\n",
    "    return x+2\n",
    "def title(x):\n",
    "    return x - 2\n",
    "def summations(y,x):\n",
    "    result = y(x)\n",
    "    return result\n",
    "summations(title,8)"
   ]
  },
  {
   "cell_type": "code",
   "execution_count": null,
   "id": "c68ed20f",
   "metadata": {},
   "outputs": [],
   "source": []
  }
 ],
 "metadata": {
  "kernelspec": {
   "display_name": "Python 3 (ipykernel)",
   "language": "python",
   "name": "python3"
  },
  "language_info": {
   "codemirror_mode": {
    "name": "ipython",
    "version": 3
   },
   "file_extension": ".py",
   "mimetype": "text/x-python",
   "name": "python",
   "nbconvert_exporter": "python",
   "pygments_lexer": "ipython3",
   "version": "3.9.7"
  }
 },
 "nbformat": 4,
 "nbformat_minor": 5
}
