{
 "cells": [
  {
   "cell_type": "code",
   "execution_count": 51,
   "id": "c400303e",
   "metadata": {},
   "outputs": [
    {
     "name": "stdout",
     "output_type": "stream",
     "text": [
      "i am the base\n",
      "i am the child class\n"
     ]
    }
   ],
   "source": [
    "class A:\n",
    "    print('i am the base')\n",
    "class B(A):\n",
    "    print('i am the child class')\n",
    "ob = A()"
   ]
  },
  {
   "cell_type": "code",
   "execution_count": 59,
   "id": "410d9739",
   "metadata": {},
   "outputs": [
    {
     "name": "stdout",
     "output_type": "stream",
     "text": [
      "4\n"
     ]
    }
   ],
   "source": [
    "class addition:\n",
    "    def sums(self,x,y):\n",
    "        self.x = x\n",
    "        self.y = y\n",
    "class summations(addition):\n",
    "    def adds(self):\n",
    "        add = self.x+self.y\n",
    "        print(add)\n",
    "ob = summations()\n",
    "ob.sums(2,2)\n",
    "ob.adds()"
   ]
  },
  {
   "cell_type": "code",
   "execution_count": 61,
   "id": "68e15fbf",
   "metadata": {},
   "outputs": [
    {
     "name": "stdout",
     "output_type": "stream",
     "text": [
      "base1\n",
      "base2\n",
      "child\n"
     ]
    }
   ],
   "source": [
    "class multiple1:\n",
    "    def base1(self):\n",
    "        print('base1')\n",
    "class multiple2:\n",
    "    def base2(self):\n",
    "        print('base2')\n",
    "class multiple3(multiple1,multiple2):\n",
    "    def child(self):\n",
    "        print('child')\n",
    "ob = multiple3()\n",
    "ob.base1()\n",
    "ob.base2()\n",
    "ob.child()"
   ]
  },
  {
   "cell_type": "code",
   "execution_count": null,
   "id": "647b4aad",
   "metadata": {},
   "outputs": [],
   "source": []
  }
 ],
 "metadata": {
  "kernelspec": {
   "display_name": "Python 3 (ipykernel)",
   "language": "python",
   "name": "python3"
  },
  "language_info": {
   "codemirror_mode": {
    "name": "ipython",
    "version": 3
   },
   "file_extension": ".py",
   "mimetype": "text/x-python",
   "name": "python",
   "nbconvert_exporter": "python",
   "pygments_lexer": "ipython3",
   "version": "3.9.7"
  }
 },
 "nbformat": 4,
 "nbformat_minor": 5
}
