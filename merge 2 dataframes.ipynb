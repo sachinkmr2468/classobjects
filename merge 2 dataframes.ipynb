{
 "cells": [
  {
   "cell_type": "code",
   "execution_count": 46,
   "id": "10fbc347",
   "metadata": {},
   "outputs": [],
   "source": [
    "import pandas as pd"
   ]
  },
  {
   "cell_type": "code",
   "execution_count": 47,
   "id": "29102110",
   "metadata": {},
   "outputs": [],
   "source": [
    "df = pd.read_csv('B:\\project\\Data\\Mall_Customers.csv')\n",
    "df1 = pd.read_csv('B:\\project\\Data\\winequality-red.csv')"
   ]
  },
  {
   "cell_type": "code",
   "execution_count": 49,
   "id": "02c413ca",
   "metadata": {},
   "outputs": [],
   "source": [
    "fames = [df,df1]\n",
    "\n",
    "merges = pd.concat(fames)"
   ]
  },
  {
   "cell_type": "code",
   "execution_count": 50,
   "id": "f515b128",
   "metadata": {},
   "outputs": [
    {
     "name": "stdout",
     "output_type": "stream",
     "text": [
      "      CustomerID   Genre   Age  Annual Income (k$)  Spending Score (1-100)  \\\n",
      "0            1.0    Male  19.0                15.0                    39.0   \n",
      "1            2.0    Male  21.0                15.0                    81.0   \n",
      "2            3.0  Female  20.0                16.0                     6.0   \n",
      "3            4.0  Female  23.0                16.0                    77.0   \n",
      "4            5.0  Female  31.0                17.0                    40.0   \n",
      "...          ...     ...   ...                 ...                     ...   \n",
      "1594         NaN     NaN   NaN                 NaN                     NaN   \n",
      "1595         NaN     NaN   NaN                 NaN                     NaN   \n",
      "1596         NaN     NaN   NaN                 NaN                     NaN   \n",
      "1597         NaN     NaN   NaN                 NaN                     NaN   \n",
      "1598         NaN     NaN   NaN                 NaN                     NaN   \n",
      "\n",
      "      fixed acidity  volatile acidity  citric acid  residual sugar  chlorides  \\\n",
      "0               NaN               NaN          NaN             NaN        NaN   \n",
      "1               NaN               NaN          NaN             NaN        NaN   \n",
      "2               NaN               NaN          NaN             NaN        NaN   \n",
      "3               NaN               NaN          NaN             NaN        NaN   \n",
      "4               NaN               NaN          NaN             NaN        NaN   \n",
      "...             ...               ...          ...             ...        ...   \n",
      "1594            6.2             0.600         0.08             2.0      0.090   \n",
      "1595            5.9             0.550         0.10             2.2      0.062   \n",
      "1596            6.3             0.510         0.13             2.3      0.076   \n",
      "1597            5.9             0.645         0.12             2.0      0.075   \n",
      "1598            6.0             0.310         0.47             3.6      0.067   \n",
      "\n",
      "      free sulfur dioxide  total sulfur dioxide  density    pH  sulphates  \\\n",
      "0                     NaN                   NaN      NaN   NaN        NaN   \n",
      "1                     NaN                   NaN      NaN   NaN        NaN   \n",
      "2                     NaN                   NaN      NaN   NaN        NaN   \n",
      "3                     NaN                   NaN      NaN   NaN        NaN   \n",
      "4                     NaN                   NaN      NaN   NaN        NaN   \n",
      "...                   ...                   ...      ...   ...        ...   \n",
      "1594                 32.0                  44.0  0.99490  3.45       0.58   \n",
      "1595                 39.0                  51.0  0.99512  3.52       0.76   \n",
      "1596                 29.0                  40.0  0.99574  3.42       0.75   \n",
      "1597                 32.0                  44.0  0.99547  3.57       0.71   \n",
      "1598                 18.0                  42.0  0.99549  3.39       0.66   \n",
      "\n",
      "      alcohol  quality  \n",
      "0         NaN      NaN  \n",
      "1         NaN      NaN  \n",
      "2         NaN      NaN  \n",
      "3         NaN      NaN  \n",
      "4         NaN      NaN  \n",
      "...       ...      ...  \n",
      "1594     10.5      5.0  \n",
      "1595     11.2      6.0  \n",
      "1596     11.0      6.0  \n",
      "1597     10.2      5.0  \n",
      "1598     11.0      6.0  \n",
      "\n",
      "[1799 rows x 17 columns]\n"
     ]
    }
   ],
   "source": [
    "print(merges)"
   ]
  },
  {
   "cell_type": "code",
   "execution_count": 51,
   "id": "e358d137",
   "metadata": {},
   "outputs": [
    {
     "data": {
      "text/html": [
       "<div>\n",
       "<style scoped>\n",
       "    .dataframe tbody tr th:only-of-type {\n",
       "        vertical-align: middle;\n",
       "    }\n",
       "\n",
       "    .dataframe tbody tr th {\n",
       "        vertical-align: top;\n",
       "    }\n",
       "\n",
       "    .dataframe thead th {\n",
       "        text-align: right;\n",
       "    }\n",
       "</style>\n",
       "<table border=\"1\" class=\"dataframe\">\n",
       "  <thead>\n",
       "    <tr style=\"text-align: right;\">\n",
       "      <th></th>\n",
       "      <th>id</th>\n",
       "      <th>Name</th>\n",
       "    </tr>\n",
       "  </thead>\n",
       "  <tbody>\n",
       "    <tr>\n",
       "      <th>0</th>\n",
       "      <td>A01</td>\n",
       "      <td>ABC</td>\n",
       "    </tr>\n",
       "    <tr>\n",
       "      <th>1</th>\n",
       "      <td>A02</td>\n",
       "      <td>PQR</td>\n",
       "    </tr>\n",
       "    <tr>\n",
       "      <th>2</th>\n",
       "      <td>A03</td>\n",
       "      <td>DEF</td>\n",
       "    </tr>\n",
       "    <tr>\n",
       "      <th>3</th>\n",
       "      <td>A04</td>\n",
       "      <td>GHI</td>\n",
       "    </tr>\n",
       "    <tr>\n",
       "      <th>0</th>\n",
       "      <td>B05</td>\n",
       "      <td>XYZ</td>\n",
       "    </tr>\n",
       "    <tr>\n",
       "      <th>1</th>\n",
       "      <td>B06</td>\n",
       "      <td>TUV</td>\n",
       "    </tr>\n",
       "    <tr>\n",
       "      <th>2</th>\n",
       "      <td>B07</td>\n",
       "      <td>MNO</td>\n",
       "    </tr>\n",
       "    <tr>\n",
       "      <th>3</th>\n",
       "      <td>B08</td>\n",
       "      <td>JKL</td>\n",
       "    </tr>\n",
       "  </tbody>\n",
       "</table>\n",
       "</div>"
      ],
      "text/plain": [
       "    id Name\n",
       "0  A01  ABC\n",
       "1  A02  PQR\n",
       "2  A03  DEF\n",
       "3  A04  GHI\n",
       "0  B05  XYZ\n",
       "1  B06  TUV\n",
       "2  B07  MNO\n",
       "3  B08  JKL"
      ]
     },
     "metadata": {},
     "output_type": "display_data"
    }
   ],
   "source": [
    "df1 = pd.DataFrame({'id': ['A01', 'A02', 'A03', 'A04'],\n",
    "                    'Name': ['ABC', 'PQR', 'DEF', 'GHI']})\n",
    "  \n",
    "# Second DataFrame\n",
    "df2 = pd.DataFrame({'id': ['B05', 'B06', 'B07', 'B08'],\n",
    "                    'Name': ['XYZ', 'TUV', 'MNO', 'JKL']})\n",
    "  \n",
    "  \n",
    "frames = [df1, df2]\n",
    "  \n",
    "result = pd.concat(frames)\n",
    "display(result)"
   ]
  },
  {
   "cell_type": "code",
   "execution_count": null,
   "id": "5b71a190",
   "metadata": {},
   "outputs": [],
   "source": []
  },
  {
   "cell_type": "code",
   "execution_count": null,
   "id": "65db9117",
   "metadata": {},
   "outputs": [],
   "source": []
  },
  {
   "cell_type": "code",
   "execution_count": null,
   "id": "5397d35f",
   "metadata": {},
   "outputs": [],
   "source": []
  },
  {
   "cell_type": "code",
   "execution_count": null,
   "id": "741c1f2b",
   "metadata": {},
   "outputs": [],
   "source": []
  },
  {
   "cell_type": "code",
   "execution_count": null,
   "id": "403134ef",
   "metadata": {},
   "outputs": [],
   "source": []
  },
  {
   "cell_type": "code",
   "execution_count": 45,
   "id": "cc127d58",
   "metadata": {},
   "outputs": [
    {
     "data": {
      "text/plain": [
       "10"
      ]
     },
     "execution_count": 45,
     "metadata": {},
     "output_type": "execute_result"
    }
   ],
   "source": [
    "def names(x):\n",
    "    return x+2\n",
    "def title(x):\n",
    "    return x-2\n",
    "def operators(y,x):\n",
    "    result =y(x)\n",
    "    return result\n",
    "operators(names,8)"
   ]
  },
  {
   "cell_type": "code",
   "execution_count": null,
   "id": "db1efde8",
   "metadata": {},
   "outputs": [],
   "source": []
  }
 ],
 "metadata": {
  "kernelspec": {
   "display_name": "Python 3 (ipykernel)",
   "language": "python",
   "name": "python3"
  },
  "language_info": {
   "codemirror_mode": {
    "name": "ipython",
    "version": 3
   },
   "file_extension": ".py",
   "mimetype": "text/x-python",
   "name": "python",
   "nbconvert_exporter": "python",
   "pygments_lexer": "ipython3",
   "version": "3.9.7"
  }
 },
 "nbformat": 4,
 "nbformat_minor": 5
}
