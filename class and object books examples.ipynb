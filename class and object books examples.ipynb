{
 "cells": [
  {
   "cell_type": "code",
   "execution_count": 1,
   "id": "d2a15018",
   "metadata": {},
   "outputs": [],
   "source": [
    "a = [12, 35, 9, 56, 24]"
   ]
  },
  {
   "cell_type": "code",
   "execution_count": 2,
   "id": "fb0c2b1c",
   "metadata": {},
   "outputs": [],
   "source": [
    "a[0],a[-1] = a[-1],a[0]"
   ]
  },
  {
   "cell_type": "code",
   "execution_count": 3,
   "id": "edb58616",
   "metadata": {},
   "outputs": [
    {
     "data": {
      "text/plain": [
       "[24, 35, 9, 56, 12]"
      ]
     },
     "execution_count": 3,
     "metadata": {},
     "output_type": "execute_result"
    }
   ],
   "source": [
    "a"
   ]
  },
  {
   "cell_type": "code",
   "execution_count": 8,
   "id": "042e37f9",
   "metadata": {},
   "outputs": [
    {
     "data": {
      "text/plain": [
       "[24, 35, 9, 56, 12]"
      ]
     },
     "execution_count": 8,
     "metadata": {},
     "output_type": "execute_result"
    }
   ],
   "source": [
    "def swaplist(num):\n",
    "    num[0],num[-1]=num[-1],num[0]\n",
    "    return num\n",
    "\n",
    "a = [12, 35, 9, 56, 24]\n",
    "swaplist(a)"
   ]
  },
  {
   "cell_type": "code",
   "execution_count": 9,
   "id": "474368c3",
   "metadata": {},
   "outputs": [],
   "source": [
    "a = [12, 35, 9, 56, 24]"
   ]
  },
  {
   "cell_type": "code",
   "execution_count": 11,
   "id": "33310ad1",
   "metadata": {},
   "outputs": [
    {
     "data": {
      "text/plain": [
       "[24, 35, 9, 56, 12]"
      ]
     },
     "execution_count": 11,
     "metadata": {},
     "output_type": "execute_result"
    }
   ],
   "source": [
    "def swaplist(num):\n",
    "    num[0],num[-1]=num[-1],num[0]\n",
    "    return num\n",
    "\n",
    "a = [12, 35, 9, 56, 24]\n",
    "swaplist(a)"
   ]
  },
  {
   "cell_type": "code",
   "execution_count": 12,
   "id": "e7fb98b3",
   "metadata": {},
   "outputs": [
    {
     "name": "stdout",
     "output_type": "stream",
     "text": [
      "<__main__.demo object at 0x0000017A38DA0B20>\n"
     ]
    }
   ],
   "source": [
    "class demo:\n",
    "    pass\n",
    "d1 = demo()\n",
    "print(d1)"
   ]
  },
  {
   "cell_type": "code",
   "execution_count": 14,
   "id": "3cf27b3a",
   "metadata": {},
   "outputs": [
    {
     "name": "stdout",
     "output_type": "stream",
     "text": [
      "welcome\n",
      "<__main__.myfirstprograme object at 0x0000017A38DA0160>\n"
     ]
    }
   ],
   "source": [
    "class myfirstprograme:\n",
    "    print('welcome')\n",
    "d1 = myfirstprograme()\n",
    "print(d1)"
   ]
  },
  {
   "cell_type": "code",
   "execution_count": 18,
   "id": "9029d32a",
   "metadata": {},
   "outputs": [
    {
     "name": "stdout",
     "output_type": "stream",
     "text": [
      "lenght = 20 breath = 0\n"
     ]
    }
   ],
   "source": [
    "class Rectangle:\n",
    "    length = 20\n",
    "    breath = 0\n",
    "\n",
    "d = Rectangle()\n",
    "a = d.length\n",
    "b = d.breath\n",
    "print('lenght =',a,'breath =',b)\n"
   ]
  },
  {
   "cell_type": "code",
   "execution_count": 19,
   "id": "4d4a1319",
   "metadata": {},
   "outputs": [
    {
     "name": "stdout",
     "output_type": "stream",
     "text": [
      "reassigning the values of attributes\n",
      "lenght = 10 breath = 10\n"
     ]
    }
   ],
   "source": [
    "print('reassigning the values of attributes')\n",
    "d.length = 10\n",
    "d.breath = 10\n",
    "a1= d.length\n",
    "a2 = d.breath\n",
    "print('lenght =',a1,'breath =',a2)"
   ]
  },
  {
   "cell_type": "code",
   "execution_count": 20,
   "id": "6f557de6",
   "metadata": {},
   "outputs": [],
   "source": [
    "# self parameter is needed always when we create a method inside a class and self refer to the object itself\n",
    "# bt it is not used when method is called\n",
    "# so for adding method to a class the first parameter of the method should be self"
   ]
  },
  {
   "cell_type": "code",
   "execution_count": 22,
   "id": "e649d669",
   "metadata": {},
   "outputs": [
    {
     "name": "stdout",
     "output_type": "stream",
     "text": [
      "welcome\n"
     ]
    }
   ],
   "source": [
    "class MethodDemo:\n",
    "    def display_method(self):\n",
    "        print('welcome')\n",
    "ob1 = MethodDemo()#object of the class\n",
    "ob1.display_method() # here we are calling the method in same way as we used to call the defined attributes \n",
    "#earlier"
   ]
  },
  {
   "cell_type": "code",
   "execution_count": 29,
   "id": "ea798583",
   "metadata": {},
   "outputs": [
    {
     "name": "stdout",
     "output_type": "stream",
     "text": [
      "78.53981633974483\n"
     ]
    }
   ],
   "source": [
    "import math\n",
    "class Circle:\n",
    "    def calc_area(self,radius):\n",
    "        return math.pi*radius**2\n",
    "ob1 = Circle()\n",
    "area =ob1.calc_area(5) # this holds the return value of the method\n",
    "print(area)"
   ]
  },
  {
   "cell_type": "code",
   "execution_count": 30,
   "id": "2861a8d3",
   "metadata": {},
   "outputs": [
    {
     "data": {
      "text/plain": [
       "78.53981633974483"
      ]
     },
     "execution_count": 30,
     "metadata": {},
     "output_type": "execute_result"
    }
   ],
   "source": [
    "import math\n",
    "class Circle:\n",
    "    def calc_area(self,radius):\n",
    "        return math.pi*radius**2\n",
    "ob1 = Circle()\n",
    "ob1.calc_area(5)\n"
   ]
  },
  {
   "cell_type": "code",
   "execution_count": 31,
   "id": "64c12e20",
   "metadata": {},
   "outputs": [
    {
     "data": {
      "text/plain": [
       "100"
      ]
     },
     "execution_count": 31,
     "metadata": {},
     "output_type": "execute_result"
    }
   ],
   "source": [
    "class Rectangle:\n",
    "    def cal_area(self,length,breath):\n",
    "        area = length*breath\n",
    "        return area\n",
    "ob1 = Rectangle()\n",
    "ob1.cal_area(10,10)"
   ]
  },
  {
   "cell_type": "code",
   "execution_count": 34,
   "id": "fa50e26f",
   "metadata": {},
   "outputs": [
    {
     "name": "stdout",
     "output_type": "stream",
     "text": [
      "value of local variable = 30\n",
      "value of instance variable= 30\n"
     ]
    }
   ],
   "source": [
    "#self parameter can be used to hide the attributes/variables of class\n",
    "class prac:\n",
    "    x = 5 \n",
    "    def disp(self,x):\n",
    "        x = 30\n",
    "        print('value of local variable =',x)\n",
    "        print('value of instance variable=',x)#this value if overridden by method parameter x, else we say we are nt callng instance variable here\n",
    "ob1 = prac()\n",
    "ob1.disp(50)# here we need to pass values bcz our method has 2 paramter 1. self and 2nd x, we dont cal self\n",
    "#bt for x we need to pass some value which is overwritten by method parameter"
   ]
  },
  {
   "cell_type": "code",
   "execution_count": 38,
   "id": "f67c71e8",
   "metadata": {},
   "outputs": [
    {
     "name": "stdout",
     "output_type": "stream",
     "text": [
      "50\n"
     ]
    }
   ],
   "source": [
    "class prac:\n",
    "    x = 5 \n",
    "    def disp(self,x):\n",
    "        return x\n",
    "#        x = 30\n",
    "#        print('value of local variable =',x)\n",
    "#        print('value of instance variable=',x)#this value if overridden by method parameter x, else we say we are nt callng instance variable here\n",
    "ob1 = prac()\n",
    "a = ob1.disp(50) # now this is value if not overwritten\n",
    "print(a)"
   ]
  },
  {
   "cell_type": "code",
   "execution_count": 39,
   "id": "d49e6bc7",
   "metadata": {},
   "outputs": [
    {
     "name": "stdout",
     "output_type": "stream",
     "text": [
      "value of local variable = 30\n",
      "value of instance variable= 5\n"
     ]
    }
   ],
   "source": [
    "# going to pull the attributes values\n",
    "class prac:\n",
    "    x = 5 \n",
    "    def disp(self,x):\n",
    "        x = 30\n",
    "        print('value of local variable =',x)\n",
    "        print('value of instance variable=',self.x)#this will refer to the instance variable\n",
    "ob1 = prac()\n",
    "ob1.disp(50)"
   ]
  },
  {
   "cell_type": "code",
   "execution_count": 44,
   "id": "60c06be8",
   "metadata": {},
   "outputs": [
    {
     "name": "stdout",
     "output_type": "stream",
     "text": [
      "in method b calling method a\n",
      "in method a\n"
     ]
    }
   ],
   "source": [
    "# self is also used to call another method from the same class\n",
    "class self_demo:\n",
    "    def method_A(self):\n",
    "        print('in method a')\n",
    "    def method_B(self):\n",
    "        print('in method b calling method a')\n",
    "        self.method_A()\n",
    "ob1 = self_demo()\n",
    "ob1.method_B()\n",
    "\n",
    "    "
   ]
  },
  {
   "cell_type": "code",
   "execution_count": 43,
   "id": "74fc6b39",
   "metadata": {},
   "outputs": [
    {
     "name": "stdout",
     "output_type": "stream",
     "text": [
      "in method a\n"
     ]
    }
   ],
   "source": [
    "ob1.method_A()"
   ]
  },
  {
   "cell_type": "code",
   "execution_count": 46,
   "id": "96c387dd",
   "metadata": {},
   "outputs": [
    {
     "name": "stdout",
     "output_type": "stream",
     "text": [
      "enter the namesachin\n",
      "enter the age20\n"
     ]
    },
    {
     "data": {
      "text/plain": [
       "('sachin', 20)"
      ]
     },
     "execution_count": 46,
     "metadata": {},
     "output_type": "execute_result"
    }
   ],
   "source": [
    "class display_demo:\n",
    "    def read(self):\n",
    "        name = input('enter the name')\n",
    "        age = int(input('enter the age'))\n",
    "        return name,age\n",
    "ob1 = display_demo()\n",
    "ob1.read()"
   ]
  },
  {
   "cell_type": "code",
   "execution_count": 47,
   "id": "52d8d89b",
   "metadata": {},
   "outputs": [
    {
     "name": "stdout",
     "output_type": "stream",
     "text": [
      "name = sachin\n",
      "account = 10112\n"
     ]
    }
   ],
   "source": [
    "#bydefault all the attributes in a class are public bt we can make private by below\n",
    "class person:\n",
    "    def __init__(self):\n",
    "        self.name = 'sachin' # public\n",
    "        self.__bankacc = 10112 # private\n",
    "    def display(self):\n",
    "        print('name =',self.name)\n",
    "        print('account =',self.__bankacc)\n",
    "p = person()\n",
    "p.display()"
   ]
  },
  {
   "cell_type": "code",
   "execution_count": 48,
   "id": "b6a56162",
   "metadata": {},
   "outputs": [
    {
     "data": {
      "text/plain": [
       "'sachin'"
      ]
     },
     "execution_count": 48,
     "metadata": {},
     "output_type": "execute_result"
    }
   ],
   "source": [
    "# access public attribute\n",
    "p.name"
   ]
  },
  {
   "cell_type": "code",
   "execution_count": 50,
   "id": "ac1a3c5f",
   "metadata": {},
   "outputs": [
    {
     "ename": "AttributeError",
     "evalue": "'person' object has no attribute '__bankacc'",
     "output_type": "error",
     "traceback": [
      "\u001b[1;31m---------------------------------------------------------------------------\u001b[0m",
      "\u001b[1;31mAttributeError\u001b[0m                            Traceback (most recent call last)",
      "\u001b[1;32m~\\AppData\\Local\\Temp/ipykernel_7712/373196577.py\u001b[0m in \u001b[0;36m<module>\u001b[1;34m\u001b[0m\n\u001b[1;32m----> 1\u001b[1;33m \u001b[0mp\u001b[0m\u001b[1;33m.\u001b[0m\u001b[0m__bankacc\u001b[0m \u001b[1;31m# try to access private attributes gives error when we call it from outsite of the class\u001b[0m\u001b[1;33m\u001b[0m\u001b[1;33m\u001b[0m\u001b[0m\n\u001b[0m",
      "\u001b[1;31mAttributeError\u001b[0m: 'person' object has no attribute '__bankacc'"
     ]
    }
   ],
   "source": [
    "p.__bankacc # try to access private attributes gives error when we call it from outsite of the class"
   ]
  },
  {
   "cell_type": "markdown",
   "id": "69abdbf0",
   "metadata": {},
   "source": [
    "#__init__method"
   ]
  },
  {
   "cell_type": "code",
   "execution_count": 51,
   "id": "ea6b3141",
   "metadata": {},
   "outputs": [
    {
     "data": {
      "text/plain": [
       "78.5"
      ]
     },
     "execution_count": 51,
     "metadata": {},
     "output_type": "execute_result"
    }
   ],
   "source": [
    "class circle:\n",
    "    def __init__(self,pi):\n",
    "        self.pi = pi\n",
    "    def cal_area(self,radius): # in method always the 1st parameter is self\n",
    "        return self.pi*radius**2\n",
    "ob1 = circle(3.14)# here we pass the value of the class attributes\n",
    "#this object auto calls the init method, we are nt calling it manually its nt needed\n",
    "ob1.cal_area(5)#passing value for radius"
   ]
  },
  {
   "cell_type": "code",
   "execution_count": 54,
   "id": "1ea1bf8b",
   "metadata": {},
   "outputs": [
    {
     "name": "stdout",
     "output_type": "stream",
     "text": [
      "78.5\n"
     ]
    }
   ],
   "source": [
    "class circle:\n",
    "    pi = 0\n",
    "    radius = 0\n",
    "    def __init__(self): # here we are defining the class attributes withing method using init mthod\n",
    "        self.pi = 3.14\n",
    "        self.radius = 5\n",
    "    def cal_area(self):\n",
    "        area = self.pi*self.radius**2\n",
    "        print(area)\n",
    "c = circle()\n",
    "c.cal_area()"
   ]
  },
  {
   "cell_type": "code",
   "execution_count": 57,
   "id": "ab34a201",
   "metadata": {},
   "outputs": [
    {
     "data": {
      "text/plain": [
       "1000"
      ]
     },
     "execution_count": 57,
     "metadata": {},
     "output_type": "execute_result"
    }
   ],
   "source": [
    "class Box:\n",
    "    length = 0\n",
    "    breath = 0\n",
    "    width = 0\n",
    "    def __init__(self):\n",
    "        self.length = 10\n",
    "        self.breath = 10\n",
    "        self.width = 10\n",
    "    def cal_vol(self):\n",
    "        return self.length*self.breath*self.width\n",
    "b = Box()\n",
    "b.cal_vol()"
   ]
  },
  {
   "cell_type": "code",
   "execution_count": 59,
   "id": "3e94a99e",
   "metadata": {},
   "outputs": [
    {
     "data": {
      "text/plain": [
       "1000"
      ]
     },
     "execution_count": 59,
     "metadata": {},
     "output_type": "execute_result"
    }
   ],
   "source": [
    "# we pass the varibles in init method and pass its value while calling the class\n",
    "class Box:\n",
    "    \n",
    "    def __init__(self,length,breath,width):\n",
    "        self.length = length\n",
    "        self.breath = breath\n",
    "        self.width = width\n",
    "    def cal_vol(self):\n",
    "        return self.length*self.breath*self.width\n",
    "b = Box(10,10,10)\n",
    "b.cal_vol()"
   ]
  },
  {
   "cell_type": "code",
   "execution_count": 62,
   "id": "40cf5e16",
   "metadata": {},
   "outputs": [
    {
     "name": "stdout",
     "output_type": "stream",
     "text": [
      "obj1 == obj2 True\n",
      "obj1==obj3 False\n"
     ]
    }
   ],
   "source": [
    "#passing object as parameter to method\n",
    "class Test:\n",
    "    a = 0\n",
    "    b = 0\n",
    "    def __init__(self,x,y):\n",
    "        self.a = x\n",
    "        self.b = y\n",
    "    def equals(self,obj):\n",
    "        if(obj.a==self.a and obj.b ==self.b):\n",
    "            return True\n",
    "        else:\n",
    "            return False\n",
    "obj1 = Test(10,20)\n",
    "obj2 = Test(10,20)\n",
    "obj3 = Test(12,90)\n",
    "print('obj1 == obj2',obj1.equals(obj2))\n",
    "print('obj1==obj3',obj1.equals(obj3))# self.a = 10,self.b=20, obj.a =12, obj,b=90"
   ]
  },
  {
   "cell_type": "code",
   "execution_count": 61,
   "id": "fb185f42",
   "metadata": {},
   "outputs": [
    {
     "data": {
      "text/plain": [
       "True"
      ]
     },
     "execution_count": 61,
     "metadata": {},
     "output_type": "execute_result"
    }
   ],
   "source": [
    "obj1.equals(obj2)"
   ]
  },
  {
   "cell_type": "code",
   "execution_count": 63,
   "id": "a5be703c",
   "metadata": {},
   "outputs": [
    {
     "data": {
      "text/plain": [
       "100"
      ]
     },
     "execution_count": 63,
     "metadata": {},
     "output_type": "execute_result"
    }
   ],
   "source": [
    "class Rectangle:\n",
    "    length = 0\n",
    "    breath = 0\n",
    "    def __init__(self,l,w):\n",
    "        self.length = l\n",
    "        self.breath = w\n",
    "    def cal_area(self,obj):\n",
    "        return obj.length * obj.breath\n",
    "c = Rectangle(10,10)\n",
    "c.cal_area(c)\n",
    "    "
   ]
  },
  {
   "cell_type": "code",
   "execution_count": 64,
   "id": "b28d0973",
   "metadata": {},
   "outputs": [
    {
     "data": {
      "text/plain": [
       "400"
      ]
     },
     "execution_count": 64,
     "metadata": {},
     "output_type": "execute_result"
    }
   ],
   "source": [
    "class Rectangle:\n",
    "    length = 0\n",
    "    breath = 0\n",
    "    def __init__(self,l,w):\n",
    "        self.length = l\n",
    "        self.breath = w\n",
    "    def cal_area(self,obj):\n",
    "        return obj.length * obj.breath\n",
    "c = Rectangle(10,10)\n",
    "c1 = Rectangle(20,20)\n",
    "c.cal_area(c1)\n",
    "    "
   ]
  },
  {
   "cell_type": "code",
   "execution_count": null,
   "id": "ba2b9f79",
   "metadata": {},
   "outputs": [],
   "source": []
  },
  {
   "cell_type": "code",
   "execution_count": null,
   "id": "59dbe5af",
   "metadata": {},
   "outputs": [],
   "source": []
  }
 ],
 "metadata": {
  "kernelspec": {
   "display_name": "Python 3 (ipykernel)",
   "language": "python",
   "name": "python3"
  },
  "language_info": {
   "codemirror_mode": {
    "name": "ipython",
    "version": 3
   },
   "file_extension": ".py",
   "mimetype": "text/x-python",
   "name": "python",
   "nbconvert_exporter": "python",
   "pygments_lexer": "ipython3",
   "version": "3.9.7"
  }
 },
 "nbformat": 4,
 "nbformat_minor": 5
}
