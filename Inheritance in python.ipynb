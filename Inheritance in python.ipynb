{
 "cells": [
  {
   "cell_type": "code",
   "execution_count": 51,
   "id": "f7bd207c",
   "metadata": {},
   "outputs": [
    {
     "name": "stdout",
     "output_type": "stream",
     "text": [
      "i am the base\n",
      "i am the child class\n"
     ]
    }
   ],
   "source": [
    "class A:\n",
    "    print('i am the base')\n",
    "class B(A):\n",
    "    print('i am the child class')\n",
    "ob = A()"
   ]
  },
  {
   "cell_type": "code",
   "execution_count": 59,
   "id": "09dac6c4",
   "metadata": {},
   "outputs": [
    {
     "name": "stdout",
     "output_type": "stream",
     "text": [
      "4\n"
     ]
    }
   ],
   "source": [
    "class addition:\n",
    "    def sums(self,x,y):\n",
    "        self.x = x\n",
    "        self.y = y\n",
    "class summations(addition):\n",
    "    def adds(self):\n",
    "        add = self.x+self.y\n",
    "        print(add)\n",
    "ob = summations()\n",
    "ob.sums(2,2)\n",
    "ob.adds()"
   ]
  },
  {
   "cell_type": "code",
   "execution_count": null,
   "id": "cebc25f8",
   "metadata": {},
   "outputs": [],
   "source": []
  },
  {
   "cell_type": "code",
   "execution_count": null,
   "id": "c224b7a2",
   "metadata": {},
   "outputs": [],
   "source": []
  }
 ],
 "metadata": {
  "kernelspec": {
   "display_name": "Python 3 (ipykernel)",
   "language": "python",
   "name": "python3"
  },
  "language_info": {
   "codemirror_mode": {
    "name": "ipython",
    "version": 3
   },
   "file_extension": ".py",
   "mimetype": "text/x-python",
   "name": "python",
   "nbconvert_exporter": "python",
   "pygments_lexer": "ipython3",
   "version": "3.9.7"
  }
 },
 "nbformat": 4,
 "nbformat_minor": 5
}
